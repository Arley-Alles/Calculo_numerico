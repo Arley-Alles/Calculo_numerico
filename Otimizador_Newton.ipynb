{
 "cells": [
  {
   "cell_type": "markdown",
   "metadata": {},
   "source": [
    "# Otimização Unidimensional sem Restrições\n",
    "\n",
    "## Método de Newton"
   ]
  },
  {
   "cell_type": "markdown",
   "metadata": {},
   "source": [
    "O método de Newton é baseado na série de Taylor, truncado no termo de segunda ordem:\n",
    "\n",
    "### $f(x_i+_1)= f(x_i)+\\frac{\\partial f(x_i)}{\\partial  x}\\Delta x_i+\\frac{1}{2}\\frac{\\partial² f(x_i)}{\\partial  x²}\\Delta x_i²$ \n",
    "\n",
    "\n",
    "\n",
    "Reorganizando a série de Taylor, tem-se:\n",
    "\n",
    "### $\\frac{f(x_i+1)-f(x_i)}{\\Delta x_i}= \\frac{\\partial f(x_i)}{\\partial  x}+\\frac{1}{2}\\frac{\\partial² f(x_i)}{\\partial  x²}\\Delta x_i$ \n",
    "\n",
    "\n",
    "\n",
    "Sabe-se que o ponto extremo (máximo ou mínimo) é obtido quando a condição necessária $\\frac{\\partial f(x_i)}{\\partial  x}= 0$ é obtida. Com isso é possível obter a formulação do método de Newton:\n",
    "\n",
    "### $x_i+1= x_i+\\frac{f'(x_i)}{f\"(x_i)}$"
   ]
  },
  {
   "cell_type": "code",
   "execution_count": 1,
   "metadata": {},
   "outputs": [],
   "source": [
    "from sympy import *\n",
    "\n",
    "x= symbols('x') #Declarando 'x' como símbolo"
   ]
  },
  {
   "cell_type": "markdown",
   "metadata": {},
   "source": [
    "#### 1. Função a ser otimizada "
   ]
  },
  {
   "cell_type": "code",
   "execution_count": 2,
   "metadata": {},
   "outputs": [],
   "source": [
    "f = (x**4) - x + 1 "
   ]
  },
  {
   "cell_type": "markdown",
   "metadata": {},
   "source": [
    "#### 2. Primeira e segunda derivada da função"
   ]
  },
  {
   "cell_type": "code",
   "execution_count": 3,
   "metadata": {},
   "outputs": [],
   "source": [
    "df = diff(f)   #Primeira derivada\n",
    "\n",
    "df2 = diff(df) #Segunda derivada\n",
    "\n"
   ]
  },
  {
   "cell_type": "markdown",
   "metadata": {},
   "source": [
    "#### 3. Implementação do método de Newton"
   ]
  },
  {
   "cell_type": "code",
   "execution_count": 10,
   "metadata": {},
   "outputs": [
    {
     "name": "stdout",
     "output_type": "stream",
     "text": [
      "Iteração: 0   | X = 2.0092593   | Derivada: 31.4465052\n",
      "Iteração: 1   | X = 1.3601479   | Derivada: 9.0651078\n",
      "Iteração: 2   | X = 0.9518103   | Derivada: 2.4491427\n",
      "Iteração: 3   | X = 0.7265254   | Derivada: 0.5339541\n",
      "Iteração: 4   | X = 0.6422266   | Derivada: 0.0595585\n",
      "Iteração: 5   | X = 0.6301933   | Derivada: 0.001109\n",
      "Iteração: 6   | X = 0.6299606   | Derivada: 4e-07\n"
     ]
    }
   ],
   "source": [
    "x0 = 3.0 #Chute inicial\n",
    "\n",
    "der_pr = df.subs(x, x0) #Aplicando o valor de 'x0' na expressão da primeira derivada\n",
    "\n",
    "tol = 1e-3 #Tolerância para o critério de parada\n",
    "\n",
    "cont = 0 #Contador para saber o número de iterações\n",
    "\n",
    "while abs(float(der_pr)) > tol:\n",
    "    \n",
    "    divisao = df/df2\n",
    "    X = x0 - (divisao.subs(x, x0))\n",
    "    \n",
    "    x0 = float(X)\n",
    "    \n",
    "    der_pr = float(df.subs(x, x0))\n",
    "    \n",
    "    print(\"Iteração:\", cont, \" \", \"|\", \"X =\", round(x0, 7), \" \", \"|\", \"Derivada:\", round(der_pr, 7))\n",
    "    \n",
    "    cont += 1"
   ]
  }
 ],
 "metadata": {
  "kernelspec": {
   "display_name": "Python 3",
   "language": "python",
   "name": "python3"
  },
  "language_info": {
   "codemirror_mode": {
    "name": "ipython",
    "version": 3
   },
   "file_extension": ".py",
   "mimetype": "text/x-python",
   "name": "python",
   "nbconvert_exporter": "python",
   "pygments_lexer": "ipython3",
   "version": "3.7.3"
  }
 },
 "nbformat": 4,
 "nbformat_minor": 2
}
